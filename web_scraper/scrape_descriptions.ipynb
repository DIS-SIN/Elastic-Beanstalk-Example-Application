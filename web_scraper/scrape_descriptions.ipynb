{
 "cells": [
  {
   "cell_type": "code",
   "execution_count": null,
   "metadata": {},
   "outputs": [],
   "source": [
    "import re\n",
    "import pandas as pd\n",
    "from selenium import webdriver"
   ]
  },
  {
   "cell_type": "code",
   "execution_count": null,
   "metadata": {},
   "outputs": [],
   "source": [
    "# Credentials\n",
    "USERNAME = ''\n",
    "PASSWORD = ''\n",
    "\n",
    "# Bool for scraping FR descriptions\n",
    "FRENCH = True"
   ]
  },
  {
   "cell_type": "code",
   "execution_count": null,
   "metadata": {},
   "outputs": [],
   "source": [
    "browser = webdriver.Chrome()"
   ]
  },
  {
   "cell_type": "code",
   "execution_count": null,
   "metadata": {},
   "outputs": [],
   "source": [
    "# Navigate to GCcampus and login\n",
    "if FRENCH:\n",
    "    main_url = 'https://idp.csps-efpc.gc.ca/idp/login-fr.jsp'\n",
    "else:\n",
    "    main_url = 'https://idp.csps-efpc.gc.ca/idp/Authn/UserPassword'\n",
    "\n",
    "browser.get(main_url)\n",
    "browser.find_element_by_id('j_username').send_keys(USERNAME)\n",
    "browser.find_element_by_id('j_password').send_keys(PASSWORD)\n",
    "browser.find_element_by_id('cbPrivacy').click()\n",
    "browser.find_element_by_xpath(\"//button[@type='submit']\").click()"
   ]
  },
  {
   "cell_type": "code",
   "execution_count": null,
   "metadata": {},
   "outputs": [],
   "source": [
    "%%time\n",
    "# Loop through catalogue and get all links to courses\n",
    "if FRENCH:\n",
    "    list_url = 'https://learn-apprendre.csps-efpc.gc.ca/application/fr/courses-solr?page='\n",
    "else:\n",
    "    list_url = 'https://learn-apprendre.csps-efpc.gc.ca/application/en/courses-solr?page='\n",
    "\n",
    "course_links = []\n",
    "for i in range(43): # Limit of ?page=42 in EN (therefore use range(43)); ?page=42 in FR\n",
    "    browser.get(list_url + str(i))\n",
    "    mars = browser.find_elements_by_css_selector('.field-items a')\n",
    "    for elem in mars:\n",
    "        course_links.append(elem.get_attribute('href'))"
   ]
  },
  {
   "cell_type": "code",
   "execution_count": null,
   "metadata": {},
   "outputs": [],
   "source": [
    "%%time\n",
    "# For each link in 'course_links', navigate to page, grab course description (HTML\n",
    "# tags included), and save to 'desc_dict'\n",
    "desc_dict = {}\n",
    "for link in course_links:\n",
    "    browser.get(link)\n",
    "    desc = browser.find_elements_by_css_selector('.field-item[property=\"content:encoded\"]')[0].get_attribute('innerHTML')\n",
    "    desc_dict[link] = desc"
   ]
  },
  {
   "cell_type": "code",
   "execution_count": null,
   "metadata": {},
   "outputs": [],
   "source": [
    "# Change dict keys from links to course codes\n",
    "desc_dict_processed = {}\n",
    "\n",
    "regex = re.compile(pattern=r'[a-zA-Z]{1}\\d{3}(?:-module-\\d{1}|-1|-2)?')\n",
    "for key, val in desc_dict.items():\n",
    "    try:\n",
    "        key_processed = regex.findall(key)[0].upper().replace('-MODULE-', ' - Module ')\n",
    "    except:\n",
    "        key_processed = key\n",
    "    desc_dict_processed[key_processed] = val"
   ]
  },
  {
   "cell_type": "code",
   "execution_count": null,
   "metadata": {},
   "outputs": [],
   "source": [
    "# Export 'desc_dict' to CSV\n",
    "df = pd.DataFrame.from_dict(desc_dict_processed, orient='index')\n",
    "df.to_csv('scraped_{0}.csv'.format('fr' if FRENCH else 'en'), sep=',', encoding='utf-8')"
   ]
  },
  {
   "cell_type": "code",
   "execution_count": null,
   "metadata": {},
   "outputs": [],
   "source": []
  }
 ],
 "metadata": {
  "kernelspec": {
   "display_name": "Python 3",
   "language": "python",
   "name": "python3"
  },
  "language_info": {
   "codemirror_mode": {
    "name": "ipython",
    "version": 3
   },
   "file_extension": ".py",
   "mimetype": "text/x-python",
   "name": "python",
   "nbconvert_exporter": "python",
   "pygments_lexer": "ipython3",
   "version": "3.7.1"
  }
 },
 "nbformat": 4,
 "nbformat_minor": 2
}
