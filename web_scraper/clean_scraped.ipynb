{
 "cells": [
  {
   "cell_type": "code",
   "execution_count": null,
   "metadata": {},
   "outputs": [],
   "source": [
    "import os\n",
    "import pandas as pd"
   ]
  },
  {
   "cell_type": "code",
   "execution_count": null,
   "metadata": {},
   "outputs": [],
   "source": [
    "FILENAME = 'FR_4.csv'"
   ]
  },
  {
   "cell_type": "code",
   "execution_count": null,
   "metadata": {},
   "outputs": [],
   "source": [
    "url_dict_en = {\n",
    "    'https://learn-apprendre.csps-efpc.gc.ca/application/en/content/core-pmir-values-and-ethical-standards': 'X003',\n",
    "    'https://learn-apprendre.csps-efpc.gc.ca/application/en/content/fundamentals-process-management': 'T400',\n",
    "    'https://learn-apprendre.csps-efpc.gc.ca/application/en/content/introduction-gender-based-analysis-plus-gba': 'ignore',\n",
    "    'https://learn-apprendre.csps-efpc.gc.ca/application/en/content/language-work-knowing-ones-rights-and-responsibilities-and-maintaining-ones-skills-levels-b': 'E340',\n",
    "    'https://learn-apprendre.csps-efpc.gc.ca/application/en/content/fundamentals-2-legal-and-policy-environment-procurement-materiel-management-and-real': 'M714',\n",
    "    'https://learn-apprendre.csps-efpc.gc.ca/application/en/content/managing-change-complex-times': 'E301',\n",
    "    'https://learn-apprendre.csps-efpc.gc.ca/application/en/content/training-modules-english-second-language-help-you-master-key-competencies-oral-and-reading': 'E441',\n",
    "    'https://learn-apprendre.csps-efpc.gc.ca/application/en/content/training-modules-french-second-language-help-you-master-key-competencies-oral-and-reading': 'E433',\n",
    "    'https://learn-apprendre.csps-efpc.gc.ca/application/en/content/mental-health-awareness-0': 'Z041',\n",
    "    'https://learn-apprendre.csps-efpc.gc.ca/application/en/content/mental-health-communication-strategies-0': 'Z087',\n",
    "    'https://learn-apprendre.csps-efpc.gc.ca/application/en/content/mental-health-health-and-wellness-strategies-0': 'Z042',\n",
    "    'https://learn-apprendre.csps-efpc.gc.ca/application/en/content/mental-health-psychologically-healthy-workplaces-0': 'Z043',\n",
    "    'https://learn-apprendre.csps-efpc.gc.ca/application/en/content/preparation-english-second-language-evaluation-written-expression-and-reading-comprehension': 'C256',\n",
    "    'https://learn-apprendre.csps-efpc.gc.ca/application/en/content/preparation-french-second-language-evaluation-written-expression-and-reading-comprehension': 'C258'\n",
    "}"
   ]
  },
  {
   "cell_type": "code",
   "execution_count": null,
   "metadata": {},
   "outputs": [],
   "source": [
    "url_dict_fr = {\n",
    "    'https://learn-apprendre.csps-efpc.gc.ca/application/fr/content/la-sante-mentale-sensibilisation-0': 'Z041',\n",
    "    'https://learn-apprendre.csps-efpc.gc.ca/application/fr/content/la-sante-mentale-strategies-de-communications-0': 'Z087',\n",
    "    'https://learn-apprendre.csps-efpc.gc.ca/application/fr/content/la-sante-mentale-strategies-en-matiere-de-sante-et-de-mieux-etre-0': 'Z042',\n",
    "    'https://learn-apprendre.csps-efpc.gc.ca/application/fr/content/violence-en-milieu-de-travail-reconnaitre-les-risques-et-prendre-les-mesures-appropriees': 'Z064',\n",
    "    'https://learn-apprendre.csps-efpc.gc.ca/application/fr/content/modules-dapprentissage-de-langlais-langue-seconde-pour-perfectionner-ses-competences-en': 'E441',\n",
    "    'https://learn-apprendre.csps-efpc.gc.ca/application/fr/content/modules-dapprentissage-du-francais-langue-seconde-pour-perfectionner-ses-competences-en': 'E433',\n",
    "    'https://learn-apprendre.csps-efpc.gc.ca/application/fr/content/preparation-levaluation-de-langlais-langue-seconde-expression-ecrite-et-comprehension-de': 'C256',\n",
    "    'https://learn-apprendre.csps-efpc.gc.ca/application/fr/content/preparation-levaluation-du-francais-langue-seconde-expression-ecrite-et-comprehension-de': 'C258',\n",
    "    'https://learn-apprendre.csps-efpc.gc.ca/application/fr/content/prevenir-le-harcelement-dans-un-lieu-de-travail-mondialise-edition-gerants-volet': 'W012',\n",
    "    'https://learn-apprendre.csps-efpc.gc.ca/application/fr/content/principes-et-pratiques-des-relations-de-travail-lintention-des-superviseurs-et-gestionnaires': 'G244',\n",
    "    'https://learn-apprendre.csps-efpc.gc.ca/application/fr/content/renouvellement-de-la-validation-apres-cinq-ans-des-connaissances-des-gestionnaires-sur-la': 'C451-1',\n",
    "    'https://learn-apprendre.csps-efpc.gc.ca/application/fr/content/valeurs-fondamentales-de-pmir-et-normes-ethiques': 'X003',\n",
    "    'https://learn-apprendre.csps-efpc.gc.ca/application/fr/content/cours-de-base-2-environnement-juridique-et-politique-des-acquisitions-de-la-gestion-du': 'M714',\n",
    "    'https://learn-apprendre.csps-efpc.gc.ca/application/fr/content/gerer-les-differentes-generations-au-sein-du-personnel-travailler-avec-une-equipe': 'X144',\n",
    "    'https://learn-apprendre.csps-efpc.gc.ca/application/fr/content/introduction-lanalyse-comparative-entre-les-sexes-plus-acs': 'ignore',\n",
    "    'https://learn-apprendre.csps-efpc.gc.ca/application/fr/content/introduction-la-gestion-des-processus': 'T400',\n",
    "    'https://learn-apprendre.csps-efpc.gc.ca/application/fr/content/la-langue-de-travail-connaitre-ses-droits-et-responsabilites-et-maintenir-ses-acquis-niveaux': 'E430',\n",
    "    'https://learn-apprendre.csps-efpc.gc.ca/application/fr/content/la-sante-mentale-milieux-de-travail-sains-sur-le-plan-psychologique-0': 'Z043',\n",
    "    'https://learn-apprendre.csps-efpc.gc.ca/application/fr/content/analyse-des-bilans-financiers-pour-les-personnes-qui-ne-sont-pas-des-professionnels-de-la': 'F005',\n",
    "    'https://learn-apprendre.csps-efpc.gc.ca/application/fr/content/collaboration-avec-des-personnes-difficiles-comment-travailler-avec-des-personnes-agressives': 'X043',\n",
    "    'https://learn-apprendre.csps-efpc.gc.ca/application/fr/content/collaboration-avec-des-personnes-difficiles-comment-travailler-avec-des-personnes-negatives': 'X044',\n",
    "    'https://learn-apprendre.csps-efpc.gc.ca/application/fr/content/consolidation-du-vocabulaire-quatre-themes-de-communication-professionnelle-en-anglais': 'E321',\n",
    "    'https://learn-apprendre.csps-efpc.gc.ca/application/fr/content/consolidation-du-vocabulaire-quatre-themes-de-communication-professionnelle-en-francais': 'E320',\n",
    "    'https://learn-apprendre.csps-efpc.gc.ca/application/fr/content/cycle-de-planification-de-budgetisation-detablissement-de-rapports-et-devaluation-du': 'F112',\n",
    "    'https://learn-apprendre.csps-efpc.gc.ca/application/fr/content/definition-des-objectifs-et-responsabilites-dune-equipe-et-utilisation-efficace-des': 'G015'\n",
    "}"
   ]
  },
  {
   "cell_type": "code",
   "execution_count": null,
   "metadata": {},
   "outputs": [],
   "source": [
    "def check_bad_codes(my_df):\n",
    "    problem_entries = my_df.loc[my_df['course_code'].str.contains(pat='/'), :]\n",
    "    for tup in problem_entries.itertuples():\n",
    "        print(tup[1])\n",
    "    else:\n",
    "        print('Done!')"
   ]
  },
  {
   "cell_type": "code",
   "execution_count": null,
   "metadata": {},
   "outputs": [],
   "source": [
    "def clean_code(my_string):\n",
    "    if my_string in url_dict_en:\n",
    "        return url_dict_en[my_string]\n",
    "    if my_string in url_dict_fr:\n",
    "        return url_dict_fr[my_string]\n",
    "    else:\n",
    "        return my_string"
   ]
  },
  {
   "cell_type": "code",
   "execution_count": null,
   "metadata": {},
   "outputs": [],
   "source": [
    "# Load CSV into DataFrame\n",
    "os.chdir('C://Users//CSPS000567//Desktop//Descriptions//')\n",
    "df = pd.read_csv(FILENAME, sep=',', names=['course_code', 'desc'], skiprows=1, index_col=None)"
   ]
  },
  {
   "cell_type": "code",
   "execution_count": null,
   "metadata": {},
   "outputs": [],
   "source": [
    "# Check for bad codes\n",
    "check_bad_codes(df)"
   ]
  },
  {
   "cell_type": "code",
   "execution_count": null,
   "metadata": {},
   "outputs": [],
   "source": [
    "# Remap bad codes\n",
    "df['course_code'] = df['course_code'].apply(clean_code)"
   ]
  },
  {
   "cell_type": "code",
   "execution_count": null,
   "metadata": {},
   "outputs": [],
   "source": [
    "# Check for bad codes\n",
    "check_bad_codes(df)"
   ]
  },
  {
   "cell_type": "code",
   "execution_count": null,
   "metadata": {},
   "outputs": [],
   "source": [
    "# Transform relative links to absolute links\n",
    "df['desc'] = df['desc'].str.replace('href=\"/application/en/',\n",
    "                                    'href=\"https://learn-apprendre.csps-efpc.gc.ca/application/en/',\n",
    "                                    regex=False)\n",
    "df['desc'] = df['desc'].str.replace('href=\"/application/en/',\n",
    "                                    'href=\"https://learn-apprendre.csps-efpc.gc.ca/application/fr/',\n",
    "                                    regex=False)"
   ]
  },
  {
   "cell_type": "code",
   "execution_count": null,
   "metadata": {},
   "outputs": [],
   "source": [
    "# Remove junk info\n",
    "df['desc'] = df['desc'].str.replace(' This link will open in a new window', '', regex=False)\n",
    "df['desc'] = df['desc'].str.replace(' Ce lien va ouvrir dans une nouvelle fenêtre', '', regex=False)"
   ]
  },
  {
   "cell_type": "code",
   "execution_count": null,
   "metadata": {},
   "outputs": [],
   "source": [
    "# Export back to CSV\n",
    "df.to_csv('Processed//' + FILENAME.replace('.csv', '_processed.csv'), sep=',', index=False, encoding='utf-8')"
   ]
  },
  {
   "cell_type": "code",
   "execution_count": null,
   "metadata": {},
   "outputs": [],
   "source": []
  }
 ],
 "metadata": {
  "kernelspec": {
   "display_name": "Python 3",
   "language": "python",
   "name": "python3"
  },
  "language_info": {
   "codemirror_mode": {
    "name": "ipython",
    "version": 3
   },
   "file_extension": ".py",
   "mimetype": "text/x-python",
   "name": "python",
   "nbconvert_exporter": "python",
   "pygments_lexer": "ipython3",
   "version": "3.7.1"
  }
 },
 "nbformat": 4,
 "nbformat_minor": 2
}
